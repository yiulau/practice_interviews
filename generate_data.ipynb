{
 "cells": [
  {
   "cell_type": "markdown",
   "metadata": {},
   "source": [
    "Generate and save data for KNN prediction"
   ]
  },
  {
   "cell_type": "code",
   "execution_count": 20,
   "metadata": {},
   "outputs": [],
   "source": [
    "import numpy"
   ]
  },
  {
   "cell_type": "code",
   "execution_count": 31,
   "metadata": {},
   "outputs": [],
   "source": [
    "numpy.random.seed(0)\n",
    "blue_means = numpy.random.randn(10,2) + numpy.array([0,1])\n",
    "orange_means = numpy.random.randn(10,2) + numpy.array([1,0])"
   ]
  },
  {
   "cell_type": "code",
   "execution_count": 40,
   "metadata": {},
   "outputs": [
    {
     "data": {
      "text/plain": [
       "[[1.764052345967664, 1.4001572083672233],\n",
       " [0.9787379841057392, 3.240893199201458],\n",
       " [1.8675579901499675, 0.022722120123588985],\n",
       " [0.9500884175255894, 0.8486427917023021],\n",
       " [-0.10321885179355784, 1.4105985019383724],\n",
       " [0.144043571160878, 2.4542735069629753],\n",
       " [0.7610377251469934, 1.1216750164928284],\n",
       " [0.44386323274542566, 1.3336743273742668],\n",
       " [1.4940790731576061, 0.7948417362341991],\n",
       " [0.31306770165090136, 0.14590426069827522]]"
      ]
     },
     "execution_count": 40,
     "metadata": {},
     "output_type": "execute_result"
    }
   ],
   "source": [
    "blue_means.tolist()"
   ]
  },
  {
   "cell_type": "code",
   "execution_count": 33,
   "metadata": {},
   "outputs": [
    {
     "data": {
      "image/png": "[encoded data removed]",
      "text/plain": [
       "<matplotlib.figure.Figure at 0x11dca0cf8>"
      ]
     },
     "metadata": {},
     "output_type": "display_data"
    }
   ],
   "source": [
    "import matplotlib.pyplot as plt\n",
    "plt.plot(blue_means[:,0],blue_means[:,1],color=\"blue\",marker=\"o\",linestyle='None')\n",
    "plt.plot(orange_means[:,0],orange_means[:,1],color=\"orange\",marker=\"o\",linestyle='None')\n",
    "\n",
    "plt.show()"
   ]
  },
  {
   "cell_type": "markdown",
   "metadata": {},
   "source": [
    "Save true means"
   ]
  },
  {
   "cell_type": "code",
   "execution_count": 48,
   "metadata": {},
   "outputs": [],
   "source": [
    "import csv\n",
    "with open(\"blue_means.csv\", \"w\",newline=\"\") as csv_file:\n",
    "    writer = csv.writer(csv_file, delimiter=',')\n",
    "    for line in blue_means.tolist():\n",
    "        writer.writerow(line)"
   ]
  },
  {
   "cell_type": "code",
   "execution_count": 50,
   "metadata": {},
   "outputs": [
    {
     "name": "stdout",
     "output_type": "stream",
     "text": [
      "blue_means.csv\n",
      "generate_data.ipynb\n"
     ]
    }
   ],
   "source": [
    "%%bash\n",
    "ls"
   ]
  },
  {
   "cell_type": "code",
   "execution_count": 72,
   "metadata": {},
   "outputs": [],
   "source": [
    "# convoluted and many edge cases\n",
    "import csv \n",
    "store = []\n",
    "with open('blue_means.csv','r') as csvfile: \n",
    "    reader = csv.reader(csvfile, delimiter=',',skipinitialspace=True) \n",
    "    for row in reader:\n",
    "        store.append(list(map(float,row)))"
   ]
  },
  {
   "cell_type": "code",
   "execution_count": 77,
   "metadata": {},
   "outputs": [],
   "source": [
    "numpy.savetxt(\"blue_means.csv\", blue_means, delimiter=\",\")\n",
    "numpy.savetxt(\"orange_means.csv\",orange_means, delimiter=\",\")"
   ]
  },
  {
   "cell_type": "code",
   "execution_count": 75,
   "metadata": {},
   "outputs": [],
   "source": [
    "store = numpy.genfromtxt(\"blue_means.csv\", delimiter=\",\")"
   ]
  },
  {
   "cell_type": "code",
   "execution_count": 76,
   "metadata": {},
   "outputs": [
    {
     "data": {
      "text/plain": [
       "array([[ 1.76405235,  1.40015721],\n",
       "       [ 0.97873798,  3.2408932 ],\n",
       "       [ 1.86755799,  0.02272212],\n",
       "       [ 0.95008842,  0.84864279],\n",
       "       [-0.10321885,  1.4105985 ],\n",
       "       [ 0.14404357,  2.45427351],\n",
       "       [ 0.76103773,  1.12167502],\n",
       "       [ 0.44386323,  1.33367433],\n",
       "       [ 1.49407907,  0.79484174],\n",
       "       [ 0.3130677 ,  0.14590426]])"
      ]
     },
     "execution_count": 76,
     "metadata": {},
     "output_type": "execute_result"
    }
   ],
   "source": [
    "store"
   ]
  },
  {
   "cell_type": "code",
   "execution_count": 71,
   "metadata": {},
   "outputs": [
    {
     "data": {
      "text/plain": [
       "[1.2, 31.1]"
      ]
     },
     "execution_count": 71,
     "metadata": {},
     "output_type": "execute_result"
    }
   ],
   "source": [
    "list(map(float,[\"1.2\",\"31.1\"]))"
   ]
  },
  {
   "cell_type": "code",
   "execution_count": 99,
   "metadata": {},
   "outputs": [],
   "source": [
    "new_orange_means = numpy.concatenate([orange_means,numpy.ones((10,1))],axis=1)\n",
    "new_blue_means = numpy.concatenate([blue_means,numpy.zeros((10,1))],axis=1)"
   ]
  },
  {
   "cell_type": "code",
   "execution_count": 103,
   "metadata": {},
   "outputs": [],
   "source": [
    "new_means = numpy.concatenate([new_orange_means,new_blue_means],axis=0)"
   ]
  },
  {
   "cell_type": "code",
   "execution_count": 104,
   "metadata": {},
   "outputs": [
    {
     "data": {
      "text/plain": [
       "array([[-1.55298982,  0.6536186 ,  1.        ],\n",
       "       [ 1.8644362 , -0.74216502,  1.        ],\n",
       "       [ 3.26975462, -1.45436567,  1.        ],\n",
       "       [ 1.04575852, -0.18718385,  1.        ],\n",
       "       [ 2.53277921,  1.46935877,  1.        ],\n",
       "       [ 1.15494743,  0.37816252,  1.        ],\n",
       "       [ 0.11221425, -1.98079647,  1.        ],\n",
       "       [ 0.65208785,  0.15634897,  1.        ],\n",
       "       [ 2.23029068,  1.20237985,  1.        ],\n",
       "       [ 0.61267318, -0.30230275,  1.        ],\n",
       "       [ 1.76405235,  1.40015721,  0.        ],\n",
       "       [ 0.97873798,  3.2408932 ,  0.        ],\n",
       "       [ 1.86755799,  0.02272212,  0.        ],\n",
       "       [ 0.95008842,  0.84864279,  0.        ],\n",
       "       [-0.10321885,  1.4105985 ,  0.        ],\n",
       "       [ 0.14404357,  2.45427351,  0.        ],\n",
       "       [ 0.76103773,  1.12167502,  0.        ],\n",
       "       [ 0.44386323,  1.33367433,  0.        ],\n",
       "       [ 1.49407907,  0.79484174,  0.        ],\n",
       "       [ 0.3130677 ,  0.14590426,  0.        ]])"
      ]
     },
     "execution_count": 104,
     "metadata": {},
     "output_type": "execute_result"
    }
   ],
   "source": [
    "new_means"
   ]
  },
  {
   "cell_type": "code",
   "execution_count": 106,
   "metadata": {},
   "outputs": [],
   "source": [
    "numpy.savetxt(\"new_means.csv\",new_means,delimiter=\",\")"
   ]
  },
  {
   "cell_type": "code",
   "execution_count": null,
   "metadata": {},
   "outputs": [],
   "source": []
  }
 ],
 "metadata": {
  "kernelspec": {
   "display_name": "Python 3",
   "language": "python",
   "name": "python3"
  },
  "language_info": {
   "codemirror_mode": {
    "name": "ipython",
    "version": 3
   },
   "file_extension": ".py",
   "mimetype": "text/x-python",
   "name": "python",
   "nbconvert_exporter": "python",
   "pygments_lexer": "ipython3",
   "version": "3.6.4"
  }
 },
 "nbformat": 4,
 "nbformat_minor": 2
}
